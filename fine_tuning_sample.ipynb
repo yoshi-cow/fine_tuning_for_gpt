{
 "cells": [
  {
   "cell_type": "markdown",
   "id": "62533fb6",
   "metadata": {},
   "source": [
    "# 教師ありファインチューニング(SFT)のトライアル\n",
    "\n",
    "## ここでのファインチューニングの目的\n",
    "\n",
    "- カスタマーサポート用チャットボットにブランドガイドラインで定めた「親しみやすい、かつ丁寧な文体」を身に着けさせる。\n",
    "- 目的：\n",
    "  - サポート回答の文章クオリティを均一化\n",
    "  - オペレータによる文体のばらつきを排除\n",
    "  - ユーザー満足度の向上\n",
    "- 期待する結果\n",
    "  - ユーザー問い合わせに対し、常に「～でございます」「～いただけますか」といったフレーズを含む丁寧な回答を返す\n",
    "  - トーンが外れた出力（ぶっきらぼう、長すぎる説明など）を大幅に減らす\n"
   ]
  },
  {
   "cell_type": "code",
   "execution_count": 1,
   "id": "215eeecb",
   "metadata": {},
   "outputs": [
    {
     "data": {
      "text/plain": [
       "True"
      ]
     },
     "execution_count": 1,
     "metadata": {},
     "output_type": "execute_result"
    }
   ],
   "source": [
    "from openai import OpenAI, APIError\n",
    "import os\n",
    "from dotenv import load_dotenv, find_dotenv\n",
    "\n",
    "load_dotenv()\n",
    "\n",
    "# os.environを用いて環境変数を表示させます\n",
    "# print(os.environ['API_KEY'])"
   ]
  },
  {
   "cell_type": "markdown",
   "id": "5f80481a",
   "metadata": {},
   "source": [
    "## 1. トレーニングデータ作成\n",
    "\n",
    "- gpt-o4-mini-high を用いてトレーニングデータ作成\n"
   ]
  },
  {
   "cell_type": "code",
   "execution_count": null,
   "id": "97692196",
   "metadata": {},
   "outputs": [
    {
     "data": {
      "text/plain": [
       "[{'role': 'system',\n",
       "  'content': 'あなたは、当社のブランドガイドラインに沿った「親しみやすく、かつ丁寧な文体」を用いるカスタマーサポートAIアシスタントです。'},\n",
       " {'role': 'user', 'content': '商品の発送状況を確認したいです。注文番号12345の現在のステータスを教えていただけますか？'},\n",
       " {'role': 'assistant',\n",
       "  'content': 'お問い合わせありがとうございます。ご注文番号12345の商品は本日13時に出荷手続きを完了しております。配送業者の追跡番号はXYZ123456789です。お届けまで今しばらくお待ちくださいませ。'}]"
      ]
     },
     "metadata": {},
     "output_type": "display_data"
    },
    {
     "data": {
      "text/plain": [
       "[{'role': 'system',\n",
       "  'content': 'あなたは、当社のブランドガイドラインに沿った「親しみやすく、かつ丁寧な文体」を用いるカスタマーサポートAIアシスタントです。'},\n",
       " {'role': 'user', 'content': '購入した商品を返品したいのですが、手続き方法を教えてください。'},\n",
       " {'role': 'assistant',\n",
       "  'content': 'ご連絡ありがとうございます。返品をご希望の場合は、マイページの注文履歴から対象の商品を選択し、「返品申請」をクリックしてください。その後、返送用ラベルをお送りしますので、ご利用のうえご返送をお願いいたします。'}]"
      ]
     },
     "metadata": {},
     "output_type": "display_data"
    },
    {
     "data": {
      "text/plain": [
       "[{'role': 'system',\n",
       "  'content': 'あなたは、当社のブランドガイドラインに沿った「親しみやすく、かつ丁寧な文体」を用いるカスタマーサポートAIアシスタントです。'},\n",
       " {'role': 'user', 'content': '配送先の住所を変更したいのですが、可能でしょうか？'},\n",
       " {'role': 'assistant',\n",
       "  'content': 'お問い合わせありがとうございます。発送前であれば、配送先の変更が可能です。マイページの注文履歴から該当のご注文を選択いただき、「配送先変更」ボタンより新しいご住所をご登録くださいませ。'}]"
      ]
     },
     "metadata": {},
     "output_type": "display_data"
    }
   ],
   "source": [
    "import pandas as pd\n",
    "\n",
    "training_data_df = pd.read_json(\"training_data.jsonl\", lines=True)\n",
    "for i in range(3):\n",
    "    display(training_data_df.loc[i, \"messages\"])"
   ]
  },
  {
   "cell_type": "markdown",
   "id": "c7b241e1",
   "metadata": {},
   "source": [
    "## 2. トレーニングデータのアップロード\n"
   ]
  },
  {
   "cell_type": "code",
   "execution_count": 22,
   "id": "d6ef11a3",
   "metadata": {},
   "outputs": [
    {
     "name": "stdout",
     "output_type": "stream",
     "text": [
      "uploaded file's id: file-Pbtvn8ZvPH1EHurusWYiH8\n"
     ]
    }
   ],
   "source": [
    "client = OpenAI(api_key=os.getenv(\"OPENAI_API_KEY\"))\n",
    "\n",
    "training_file = \"training_data.jsonl\"\n",
    "try:\n",
    "    with open(training_file, \"rb\") as f:\n",
    "        file_object = client.files.create(file=f, purpose=\"fine-tune\")\n",
    "    print(f\"uploaded file's id: {file_object.id}\")\n",
    "\n",
    "except FileNotFoundError:\n",
    "    print(f\"File {training_file} not found.\")\n",
    "\n",
    "except APIError as e:\n",
    "    print(f\"OpenAI API error: {e}\")"
   ]
  },
  {
   "cell_type": "code",
   "execution_count": null,
   "id": "8f5b66b0",
   "metadata": {},
   "outputs": [],
   "source": [
    "training_file_id = \"file-Pbtvn8ZvPH1EHurusWYiH8\""
   ]
  },
  {
   "cell_type": "markdown",
   "id": "0fa7acb3",
   "metadata": {},
   "source": [
    "## 3. 訓練時の検証用データのアップロード\n"
   ]
  },
  {
   "cell_type": "code",
   "execution_count": 19,
   "id": "44c07088",
   "metadata": {},
   "outputs": [
    {
     "name": "stdout",
     "output_type": "stream",
     "text": [
      "uploaded validation file's id: file-5jGYuuk2Y93ggEuBCgct7p\n"
     ]
    }
   ],
   "source": [
    "validation_file = \"validation_data.jsonl\"\n",
    "try:\n",
    "    with open(validation_file, \"rb\") as f:\n",
    "        valid_file_object = client.files.create(file=f, purpose=\"fine-tune\")\n",
    "    print(f\"uploaded validation file's id: {valid_file_object.id}\")\n",
    "\n",
    "except FileNotFoundError:\n",
    "    print(f\"File {training_file} not found.\")\n",
    "\n",
    "except APIError as e:\n",
    "    print(f\"OpenAI API error: {e}\")"
   ]
  },
  {
   "cell_type": "code",
   "execution_count": null,
   "id": "3cc54138",
   "metadata": {},
   "outputs": [],
   "source": [
    "valid_file_id = \"file-5jGYuuk2Y93ggEuBCgct7p\""
   ]
  },
  {
   "cell_type": "markdown",
   "id": "6cbed102",
   "metadata": {},
   "source": [
    "## 3. ファインチューニングジョブの作成(モデル訓練)\n"
   ]
  },
  {
   "cell_type": "code",
   "execution_count": 20,
   "id": "dc0e2c88",
   "metadata": {},
   "outputs": [
    {
     "name": "stdout",
     "output_type": "stream",
     "text": [
      "['gpt-4o-realtime-preview-2024-12-17', 'gpt-4o-audio-preview-2024-12-17', 'dall-e-3', 'dall-e-2', 'gpt-4o-audio-preview-2024-10-01', 'gpt-4-turbo-preview', 'text-embedding-3-small', 'babbage-002', 'o1-mini-2024-09-12', 'o1-mini', 'gpt-4', 'text-embedding-ada-002', 'chatgpt-4o-latest', 'text-embedding-3-large', 'gpt-4o-mini-audio-preview', 'gpt-4o-audio-preview', 'o1-preview-2024-09-12', 'gpt-4o-mini-realtime-preview', 'gpt-4o-mini-realtime-preview-2024-12-17', 'gpt-3.5-turbo-instruct-0914', 'gpt-4o-mini-search-preview', 'o1', 'gpt-3.5-turbo-16k', 'o1-2024-12-17', 'gpt-4o-realtime-preview', 'davinci-002', 'gpt-3.5-turbo-1106', 'gpt-4o-search-preview', 'gpt-3.5-turbo-instruct', 'gpt-3.5-turbo', 'gpt-4o-mini-search-preview-2025-03-11', 'gpt-4-0125-preview', 'gpt-4o-2024-11-20', 'gpt-4o-2024-05-13', 'o1-pro', 'o1-pro-2025-03-19', 'o1-preview', 'gpt-4-1106-preview', 'gpt-4-0613', 'gpt-4o-mini-tts', 'gpt-4o-transcribe', 'gpt-4.5-preview', 'gpt-4.5-preview-2025-02-27', 'gpt-4o-search-preview-2025-03-11', 'omni-moderation-2024-09-26', 'o3-mini', 'o3-mini-2025-01-31', 'gpt-image-1', 'tts-1-hd', 'gpt-4o', 'tts-1-hd-1106', 'gpt-4o-2024-08-06', 'gpt-4o-mini-2024-07-18', 'gpt-4.1-mini', 'gpt-4o-mini', 'gpt-4o-mini-audio-preview-2024-12-17', 'gpt-3.5-turbo-0125', 'gpt-4-turbo', 'tts-1', 'gpt-4-turbo-2024-04-09', 'tts-1-1106', 'gpt-4o-realtime-preview-2024-10-01', 'gpt-4o-mini-transcribe', 'gpt-4.1-mini-2025-04-14', 'gpt-4.1', 'whisper-1', 'gpt-4.1-2025-04-14', 'gpt-4.1-nano-2025-04-14', 'omni-moderation-latest', 'o4-mini-2025-04-16', 'o4-mini', 'gpt-4.1-nano']\n"
     ]
    }
   ],
   "source": [
    "# 利用可能なモデル一覧を取得\n",
    "models = client.models.list()\n",
    "print([m.id for m in models.data])"
   ]
  },
  {
   "cell_type": "code",
   "execution_count": 36,
   "id": "a931559f",
   "metadata": {},
   "outputs": [],
   "source": [
    "# Fine-tuningの実行\n",
    "response = client.fine_tuning.jobs.create(\n",
    "    training_file=file_object.id,\n",
    "    validation_file=valid_file_object.id,\n",
    "    # model=\"gpt-4o-2024-08-06\", # Fine Tuning対象モデルの確認必要\n",
    "    model=\"gpt-3.5-turbo\",\n",
    "    hyperparameters={\n",
    "        \"n_epochs\": 3,\n",
    "        \"batch_size\": 1,\n",
    "        # \"learning_rate_multiplier\": 0.05,\n",
    "    },\n",
    "    suffix=\"tuning_model_v1\",\n",
    "    seed=42,\n",
    ")"
   ]
  },
  {
   "cell_type": "code",
   "execution_count": 37,
   "id": "d23fc2c8",
   "metadata": {},
   "outputs": [
    {
     "data": {
      "text/plain": [
       "'ftjob-f73qgBYQ2PSW1tBQXtl7baL4'"
      ]
     },
     "execution_count": 37,
     "metadata": {},
     "output_type": "execute_result"
    }
   ],
   "source": [
    "response.id"
   ]
  },
  {
   "cell_type": "markdown",
   "id": "ecc03858",
   "metadata": {},
   "source": [
    "## client.fine_tuning.jobs.create メソッドのハイパーパラメータについて\n",
    "\n",
    "- https://platform.openai.com/docs/api-reference/fine-tuning/create\n",
    "- 設定可能なハイパーパラメータ\n",
    "  - batch_size : \"auto\" or integer, Defaults to auto\n",
    "  - learning_rate_multiplier : \"auto\" or number, Defaults to auto\n",
    "  - n_epochs : \"auto\" or integer, Defaults to auto\n",
    "\n",
    "ファインチューニング時に設定する主なハイパーパラメータは以下の３つ。それぞれの役割と、値を決める際のポイント。\n",
    "\n",
    "---\n",
    "\n",
    "#### 1. `batch_size`（バッチサイズ）\n",
    "\n",
    "- **定義**\n",
    "  １回のパラメータ更新（１ステップ）でモデルに与えるサンプル数。\n",
    "\n",
    "- **役割**\n",
    "\n",
    "  - 勾配推定の安定性に影響\n",
    "  - 大きいほど「データ全体に近い」勾配を取るので更新が滑らかに\n",
    "  - 小さいほどノイズのある勾配（ランダム性）が入り、早期の収束／汎化性能向上につながることも\n",
    "\n",
    "- **設定の考え方**\n",
    "\n",
    "  1. **メモリ制約**：大きいと GPU／TPU メモリを大量に使う\n",
    "  2. **データ量**：データセットが小さい場合は `1` 〜 `8` の小さめ、十分量ある場合は `16`〜 `64` も可\n",
    "  3. **収束速度 vs. 汎化**：\n",
    "\n",
    "     - 速く収束させたい → 大きめ\n",
    "     - ノイズによる正則化効果を狙う → 小さめ\n",
    "\n",
    "---\n",
    "\n",
    "#### 2. `learning_rate_multiplier`（学習率倍率）\n",
    "\n",
    "- **定義**\n",
    "  ベースの学習率（optimizer の内部設定値）に掛け合わせる係数。\n",
    "  たとえば内部 lr=1e-5 のとき、`learning_rate_multiplier=0.1` なら `1e-6` で学習。\n",
    "\n",
    "- **役割**\n",
    "\n",
    "  - パラメータ更新の大きさ（ステップ幅）を調整\n",
    "  - 大きすぎると発散、小さすぎると収束が遅い\n",
    "\n",
    "- **設定の考え方**\n",
    "\n",
    "  1. **初期値の目安**：`0.05`〜`0.2` あたりから試す\n",
    "  2. **学習曲線確認**：\n",
    "\n",
    "     - `loss` がガタガタする → 値を下げる\n",
    "     - `loss` がほとんど減らない → 値を上げる\n",
    "\n",
    "  3. **データ量依存**：\n",
    "\n",
    "     - データ量少 → ステップ幅を小さく（`0.05`以下）\n",
    "     - データ量多 → 少し大きめ（`0.1`〜`0.2`）でもよい\n",
    "\n",
    "---\n",
    "\n",
    "#### 3. `n_epochs`（エポック数）\n",
    "\n",
    "- **定義**\n",
    "  データセット全体を何周（pass）させるかの回数。\n",
    "\n",
    "- **役割**\n",
    "\n",
    "  - 周回数が多いほどデータを細かく学習 → 過学習リスク増\n",
    "  - 周回数が少ないと未学習のまま終わる可能性\n",
    "\n",
    "- **設定の考え方**\n",
    "\n",
    "  1. **データサイズ**：\n",
    "\n",
    "     - 小規模データ（数百件以下）：`3`〜`5` エポック\n",
    "     - 中規模データ（数千〜万件）：`1`〜`3` エポック\n",
    "     - 大規模データ：`1` エポック未満で十分\n",
    "\n",
    "  2. **過学習モニタ**：\n",
    "\n",
    "     - Validation loss が上昇し始めたらストップ（アーリースト opping 代用）\n",
    "\n",
    "  3. **リソースと時間**：\n",
    "\n",
    "     - エポック増 → 時間もコストも増大\n",
    "     - `n_epochs×training_steps` が学習工数の目安\n",
    "\n",
    "---\n",
    "\n",
    "#### ▼ 設定例\n",
    "\n",
    "| データ規模           | batch_size | lr_multiplier | n_epochs |\n",
    "| -------------------- | ---------- | ------------- | -------- |\n",
    "| 少量（<500 件）      | 1 ～ 4     | 0.05          | 4        |\n",
    "| 中量（500 ～ 5,000） | 4 ～ 16    | 0.1           | 2        |\n",
    "| 多量（>5,000）       | 16 ～ 64   | 0.1 ～ 0.2    | 1        |\n",
    "\n",
    "---\n",
    "\n",
    "#### ▼ チューニング手順のポイント\n",
    "\n",
    "1. **まずはデフォルト**（`batch_size=1`, `lr_multiplier=0.1`, `n_epochs=3`）で回してみる\n",
    "2. **Validation loss** や **生成品質** を見ながら、\n",
    "\n",
    "   - 発散していれば `lr_multiplier` を下げる\n",
    "   - 収束が遅ければ `lr_multiplier` を上げる or `n_epochs` を増やす\n",
    "   - ノイズを増やしたい or メモリ余裕があれば `batch_size` を下げる\n",
    "\n",
    "3. **最終的にコスト（時間 & トークン量）と品質のバランス**をとる\n",
    "\n",
    "これらの指針をもとに、まずは小さな実験から始め、徐々に最適値を探索していく。\n"
   ]
  },
  {
   "cell_type": "code",
   "execution_count": null,
   "id": "0d78998e",
   "metadata": {},
   "outputs": [],
   "source": []
  },
  {
   "cell_type": "markdown",
   "id": "9b97c0d0",
   "metadata": {},
   "source": [
    "## 4. Fine-tuning の進捗状況確認\n"
   ]
  },
  {
   "cell_type": "code",
   "execution_count": null,
   "id": "6f6a8643",
   "metadata": {},
   "outputs": [
    {
     "name": "stdout",
     "output_type": "stream",
     "text": [
      "FineTuningJob(id='ftjob-HsoVXP62zkBF3zvLUsL7U63K', created_at=1747124472, error=Error(code=None, message=None, param=None), fine_tuned_model=None, finished_at=None, hyperparameters=Hyperparameters(batch_size=1, learning_rate_multiplier=2.0, n_epochs=3), model='gpt-4o-2024-08-06', object='fine_tuning.job', organization_id='org-SqlLlb8NdyIB3SMDpThpyi1t', result_files=[], seed=42, status='queued', trained_tokens=None, training_file='file-Pbtvn8ZvPH1EHurusWYiH8', validation_file='file-5jGYuuk2Y93ggEuBCgct7p', estimated_finish=None, integrations=[], metadata=None, method=Method(type='supervised', dpo=None, reinforcement=None, supervised=SupervisedMethod(hyperparameters=SupervisedHyperparameters(batch_size=1, learning_rate_multiplier=2.0, n_epochs=3))), user_provided_suffix='tuning_model_v1', usage_metrics=None, shared_with_openai=False, eval_id=None)\n"
     ]
    }
   ],
   "source": [
    "# status_response = client.fine_tuning.jobs.retrieve(fine_tuning_job_id=response.id)\n",
    "# print(status_response)\n"
   ]
  },
  {
   "cell_type": "code",
   "execution_count": 38,
   "id": "6fbb6a22",
   "metadata": {},
   "outputs": [
    {
     "data": {
      "text/plain": [
       "SyncCursorPage[FineTuningJobEvent](data=[FineTuningJobEvent(id='ftevent-llzE2a5AxzIojoxmUZLPq9QZ', created_at=1747128049, level='info', message='Fine-tuning job started', object='fine_tuning.job.event', data=None, type='message'), FineTuningJobEvent(id='ftevent-zq4gIAegWlbmCkBaFsCihtGc', created_at=1747128046, level='info', message='Files validated, moving job to queued state', object='fine_tuning.job.event', data={}, type='message')], has_more=True, object='list')"
      ]
     },
     "execution_count": 38,
     "metadata": {},
     "output_type": "execute_result"
    }
   ],
   "source": [
    "# Fine-tuningの進捗状況確認\n",
    "client.fine_tuning.jobs.list_events(\n",
    "    fine_tuning_job_id=\"ftjob-f73qgBYQ2PSW1tBQXtl7baL4\", limit=2\n",
    ")"
   ]
  },
  {
   "cell_type": "markdown",
   "id": "4b7cde24",
   "metadata": {},
   "source": [
    "`list_events` を呼び出すと、そのファインチューニングジョブで発生した「イベント」の一覧を取得できる。具体的には、以下のような情報を知ることができる。\n",
    "\n",
    "- **ステータス遷移タイムスタンプ**\n",
    "\n",
    "  - ジョブがキューに入った時刻（`queued`）\n",
    "  - 実際にトレーニングが開始された時刻（`running`）\n",
    "  - トレーニング完了／検証完了など各フェーズの時刻\n",
    "\n",
    "- **進捗ログ**\n",
    "\n",
    "  - 各エポックの開始・終了\n",
    "  - ステップごとの処理進捗（例：`step 100/1000` のようなログ）\n",
    "  - 検証データでの評価結果（例：`validation_loss: 0.1234`）\n",
    "\n",
    "- **警告やエラー**\n",
    "\n",
    "  - ハイパーパラメータに関する警告\n",
    "  - データフォーマット不備などのエラー詳細\n",
    "\n",
    "- **カスタムメッセージ**\n",
    "\n",
    "  - SDK やバックエンドから出力された内部メッセージ\n",
    "  - たとえば「データセットの前処理完了」「モデルの重みロード完了」など\n",
    "\n",
    "オプションの `limit=2` を指定すると、最新 2 件のイベントだけを取得します。これにより、\n",
    "\n",
    "1. 直近のステータス変化が何だったか\n",
    "2. どのタイミングで次のフェーズに移行したか\n",
    "\n",
    "などを手早く把握できる。\n",
    "`list_events` を定期的に呼び出すことで、ファインチューニングの進捗モニタリングやトラブルシュートに役立つ。\n"
   ]
  },
  {
   "cell_type": "code",
   "execution_count": 39,
   "id": "ed035d1c",
   "metadata": {},
   "outputs": [
    {
     "data": {
      "text/plain": [
       "SyncCursorPage[FineTuningJobEvent](data=[FineTuningJobEvent(id='ftevent-1z049ARL6DHxNT0G2vXUBoW6', created_at=1747128444, level='info', message='The job has successfully completed', object='fine_tuning.job.event', data={}, type='message'), FineTuningJobEvent(id='ftevent-tshRvyyywWYOJuM4gLdMrdJd', created_at=1747128439, level='info', message='New fine-tuned model created', object='fine_tuning.job.event', data={}, type='message')], has_more=True, object='list')"
      ]
     },
     "execution_count": 39,
     "metadata": {},
     "output_type": "execute_result"
    }
   ],
   "source": [
    "client.fine_tuning.jobs.list_events(\n",
    "    fine_tuning_job_id=\"ftjob-f73qgBYQ2PSW1tBQXtl7baL4\", limit=2\n",
    ")"
   ]
  },
  {
   "cell_type": "markdown",
   "id": "c46cfadb",
   "metadata": {},
   "source": [
    "### 5. 学習時の損失の見方\n"
   ]
  },
  {
   "cell_type": "code",
   "execution_count": null,
   "id": "2452d871",
   "metadata": {},
   "outputs": [],
   "source": [
    "# training loss とvalidation lossの取得\n",
    "loss_df = pd.read_csv(\"training_validation_loss.csv\")\n",
    "loss_df.sort_values(\"Step\", inplace=True)\n",
    "loss_df.reset_index(inplace=True)\n",
    "loss_df.drop(columns=[\"index\"], inplace=True)\n"
   ]
  },
  {
   "cell_type": "code",
   "execution_count": null,
   "id": "74f8519e",
   "metadata": {},
   "outputs": [
    {
     "data": {
      "text/plain": [
       "<Axes: title={'center': 'Training and Validation Loss'}, xlabel='Step', ylabel='Loss'>"
      ]
     },
     "execution_count": 58,
     "metadata": {},
     "output_type": "execute_result"
    },
    {
     "data": {
      "image/png": "[encoded data removed]",
      "text/plain": [
       "<Figure size 1000x500 with 1 Axes>"
      ]
     },
     "metadata": {},
     "output_type": "display_data"
    }
   ],
   "source": [
    "loss_df.loc[:, [\"Training loss\", \"Validation loss\"]].plot(\n",
    "    title=\"Training and Validation Loss\",\n",
    "    xlabel=\"Step\",\n",
    "    ylabel=\"Loss\",\n",
    "    figsize=(10, 5),\n",
    "    grid=True,\n",
    ")"
   ]
  },
  {
   "cell_type": "markdown",
   "id": "e884d72d",
   "metadata": {},
   "source": [
    "### 上記の損失推移について\n",
    "\n",
    "損失（loss）の推移を読み解くには、主に以下の３つの視点でチェックすると良いです。\n",
    "\n",
    "---\n",
    "\n",
    "#### 1. Training↔Validation の乖離（Overfit／Underfit）の有無を見る\n",
    "\n",
    "- **Training loss が下がる一方で、Validation loss が上がり続ける** → 過学習の兆候\n",
    "- **両方とも高いまま下がらない** → 学習が進んでいない（Under-fit）\n",
    "- **両者が揃って下がっていれば** → うまく学習できている\n",
    "\n",
    "---\n",
    "\n",
    "#### 2. 収束トレンドとノイズの大小を見る\n",
    "\n",
    "- **滑らかに減少しているか**\n",
    "  → 学習率が適切で、バッチサイズやデータが安定的\n",
    "- **大きくジグザグしているか**\n",
    "  → 学習率が高すぎる、あるいはバッチサイズが小さすぎて勾配がノイジー\n",
    "\n",
    "---\n",
    "\n",
    "#### 3. 定期的計測（Full Validation）と部分計測（Validation loss）の違い\n",
    "\n",
    "- **Validation loss** は各ステップごとのミニバッチに対する損失\n",
    "- **Full Validation loss** はエポックまたは一定間隔ごとに全検証データで評価した損失\n",
    "\n",
    "  - ステップ単位の揺らぎよりも、こちらを「真の汎化性能」として重視すると安心\n",
    "\n",
    "---\n",
    "\n",
    "#### ログを読むと…\n",
    "\n",
    "1. **Training loss**\n",
    "\n",
    "   - Step 1: 0.98 → Step 60: 0.278\n",
    "   - しっかりと漸近的に下がっており、モデルはデータに適合しようとしている\n",
    "\n",
    "2. **Validation loss**（ミニバッチごと）\n",
    "\n",
    "   - 大きく 0.3 ～ 1.3 の間を振動\n",
    "   - 最低で 0.324（Step 60）、高いときは 0.9 超まで跳ね上がる\n",
    "   - ジグザグが目立つ → 学習率がやや高い、またはミニバッチサイズが小さく勾配ノイズが大きい可能性\n",
    "\n",
    "3. **Full Validation loss**（Step 20, 40, 60 で計測）\n",
    "\n",
    "   - Step 20: 0.695 → Step 40: 0.615 → Step 60: 0.619\n",
    "   - 全体評価では 20→40 で確実に改善、40→60 は横ばい\n",
    "   - 「40 ステップ付近」が最も汎化性能が高い節目と読み取れる\n",
    "\n",
    "---\n",
    "\n",
    "#### 総合評価と次の一手\n",
    "\n",
    "- **過学習**：Training loss はまだ下がる余地があり、Validation loss に明確な上昇トレンドはないので大きな過学習には至っていない\n",
    "- **学習率調整**：Validation loss の揺らぎを抑えるため、`learning_rate_multiplier` を少し下げてみるのがおすすめ\n",
    "- **エポック数**：Full Validation が横ばいなので、`n_epochs` を増やすよりも「40 ステップ相当」で打ち切る（Early Stopping）の検討も良い\n",
    "- **バッチサイズ**：ノイズを抑えたいならバッチサイズを増やし、勾配推定を安定させる\n",
    "\n",
    "このように、Training↔Validation の差分、揺らぎの大きさ、Full Validation の推移を見比べることで「学習がどこでピークを迎えたか」「どのタイミングで手を打つべきか」が明確になる。\n"
   ]
  },
  {
   "cell_type": "markdown",
   "id": "532da01d",
   "metadata": {},
   "source": [
    "## 補：Early Stopping の方法　(by GPT)\n",
    "\n",
    "OpenAI のファインチューニング API 自体には「早期終了（Early Stopping）」の仕組みは組み込まれていません。そのため、以下のように外部から ── たとえば Python スクリプトで ── ジョブの進捗と検証損失をモニタリングし、「改善が止まったらキャンセルする」フローを自前で実装します。\n",
    "\n",
    "---\n",
    "\n",
    "### 実装ステップ\n",
    "\n",
    "1. **ファインチューニングジョブを起動**\n",
    "   これまでどおり `client.fine_tuning.jobs.create(...)` でジョブを開始し、返ってきた `job_id` を保持します。\n",
    "\n",
    "2. **定期的にイベントを取得して検証損失をチェック**\n",
    "   `client.fine_tuning.jobs.list_events(fine_tuning_job_id=job_id)` で最新のイベントを取得し、`full_validation_loss`（あるいは `validation_loss`）の値を抜き出します。\n",
    "\n",
    "3. **改善幅と耐久度（patience）を設定**\n",
    "   連続して「最小値更新なし」が続いたステップ数（patience）をあらかじめ決めておきます。patience を超えたら「もうこれ以上学習を続けても意味がない」と判断します。\n",
    "\n",
    "4. **キャンセルを実行**\n",
    "   `client.fine_tuning.jobs.cancel(fine_tuning_job_id=job_id)` を呼び出してジョブを停止し、最良モデルだけが出力されます。\n",
    "\n",
    "---\n",
    "\n",
    "### サンプルコード\n",
    "\n",
    "```python\n",
    "import time\n",
    "import sys\n",
    "from openai import OpenAI, APIError\n",
    "\n",
    "client = OpenAI()  # API_KEY は環境変数から自動読み込み\n",
    "\n",
    "# --- 1. すでに起動済みのファインチューニングジョブ ID を指定 ---\n",
    "job_id = \"ftjob-abc123\"\n",
    "\n",
    "# --- 2. Early Stopping の設定 ---\n",
    "patience_steps = 5      # 検証損失が改善されない連続ステップ数\n",
    "check_interval = 60     # 秒単位でイベントをポーリングする間隔\n",
    "best_loss = float(\"inf\")\n",
    "no_improve_count = 0\n",
    "\n",
    "try:\n",
    "    while True:\n",
    "        # 最新イベントをまとめて取得\n",
    "        resp = client.fine_tuning.jobs.list_events(\n",
    "            fine_tuning_job_id=job_id,\n",
    "            limit=100\n",
    "        )\n",
    "        # イベントの中から full_validation_loss を持つものを抽出\n",
    "        for ev in resp.data:\n",
    "            data = ev.data or {}\n",
    "            if \"full_validation_loss\" in data:\n",
    "                val_loss = data[\"full_validation_loss\"]\n",
    "                # 最良損失の更新チェック\n",
    "                if val_loss < best_loss:\n",
    "                    best_loss = val_loss\n",
    "                    no_improve_count = 0\n",
    "                    print(f\"[Step {ev.data.get('step', '?')}] new best val loss = {best_loss:.4f}\")\n",
    "                else:\n",
    "                    no_improve_count += 1\n",
    "                    print(f\"[Step {ev.data.get('step', '?')}] val loss={val_loss:.4f}, no improve x{no_improve_count}\")\n",
    "\n",
    "                # patience 超えたらキャンセル\n",
    "                if no_improve_count >= patience_steps:\n",
    "                    client.fine_tuning.jobs.cancel(fine_tuning_job_id=job_id)\n",
    "                    print(f\"👉 Early stopping triggered (no improvement in {patience_steps} checks).\")\n",
    "                    sys.exit(0)\n",
    "\n",
    "        # 次のチェックまで待機\n",
    "        time.sleep(check_interval)\n",
    "\n",
    "except APIError as e:\n",
    "    print(f\"API error: {e}\")\n",
    "```\n",
    "\n",
    "---\n",
    "\n",
    "### ポイントまとめ\n",
    "\n",
    "- **Patience**：改善がないチェック回数。増やすとより安定した最適点を探せますが、学習時間が延びます。\n",
    "- **チェック間隔**：あまり頻繁に叩くと API レートにも注意。60 ～ 120 秒間隔が無難です。\n",
    "- **モニタリング対象**：`full_validation_loss` を最優先。`validation_loss`（ミニバッチ単位）だけでも代用可能ですがノイズが大きいので、なるべく「全体評価」指標を使いましょう。\n",
    "\n",
    "この仕組みを使えば、学習が頭打ちになるタイミングで自動的にジョブを止め、リソースとトークンコストを節約できます。\n"
   ]
  },
  {
   "cell_type": "markdown",
   "id": "163cfe8a",
   "metadata": {},
   "source": [
    "### 補：Step 数について\n",
    "\n",
    "“Step” とは、**モデルのパラメータを１回更新した（またはバッチを１回処理した）回数** を表す。\n",
    "\n",
    "今回、20 レコードを batch_size=1 で 3 エポック回しているので、全体で 20 レコード ×3 エポック＝ 60 ステップになる。【Step 1】は最初のレコードを使った最初の更新、【Step 20】は１エポック目の最後のレコードを使った更新、【Step 21】は２エポック目の最初……というふうに数え上げていった数値。\n",
    "\n",
    "- **Training loss** は各ステップ時点で「そのバッチ（この例では１件分）に対して計算された損失」\n",
    "- **Validation loss** は同じステップのタイミングで「検証データセット上で計算された損失」\n",
    "- **Full Validation loss** は一定間隔（たとえばエポックの終わりや 20 ステップごと）で「検証セット全部に対してまとめて計算した損失」\n",
    "\n",
    "と対応しており、ステップ数を追うことで、学習が進むごとに「何回目の更新で損失がどう変化したか」を時系列で追跡できる。\n"
   ]
  },
  {
   "cell_type": "code",
   "execution_count": null,
   "id": "00235f75",
   "metadata": {},
   "outputs": [],
   "source": []
  },
  {
   "cell_type": "code",
   "execution_count": null,
   "id": "8d1962d6",
   "metadata": {},
   "outputs": [],
   "source": []
  }
 ],
 "metadata": {
  "kernelspec": {
   "display_name": "study_azure_single_agent",
   "language": "python",
   "name": "python3"
  },
  "language_info": {
   "codemirror_mode": {
    "name": "ipython",
    "version": 3
   },
   "file_extension": ".py",
   "mimetype": "text/x-python",
   "name": "python",
   "nbconvert_exporter": "python",
   "pygments_lexer": "ipython3",
   "version": "3.11.11"
  }
 },
 "nbformat": 4,
 "nbformat_minor": 5
}
